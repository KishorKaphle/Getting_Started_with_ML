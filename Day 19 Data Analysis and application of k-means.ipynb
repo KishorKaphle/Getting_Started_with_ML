{
 "cells": [
  {
   "cell_type": "code",
   "execution_count": 16,
   "metadata": {},
   "outputs": [
    {
     "name": "stdout",
     "output_type": "stream",
     "text": [
      "     District Gender Area, Sex and type of activity  \\\n",
      "0   Taplejung   Male                       Economic   \n",
      "1   Taplejung   Male                       Economic   \n",
      "2   Taplejung   Male                       Economic   \n",
      "3   Taplejung   Male                       Economic   \n",
      "4   Taplejung   Male                       Economic   \n",
      "\n",
      "   Duration of activity performed (in month)  Value  \n",
      "0                                          0  14842  \n",
      "1                                          1    560  \n",
      "2                                          2   2086  \n",
      "3                                          3    595  \n",
      "4                                          4    732  \n"
     ]
    }
   ],
   "source": [
    "import pandas as pd\n",
    "df = pd.read_csv('Population 10 years and above by type of activity performed, duration (in month) and sex.csv')\n",
    "print(df.head())"
   ]
  },
  {
   "cell_type": "code",
   "execution_count": 29,
   "metadata": {},
   "outputs": [
    {
     "name": "stdout",
     "output_type": "stream",
     "text": [
      "0\n"
     ]
    }
   ],
   "source": [
    "count = 0\n",
    "for i in df['District']:\n",
    "   if i == 'Taplejung':\n",
    "    count+=1\n",
    "\n",
    "print (count)\n",
    "    \n",
    "    \n",
    "    \n",
    "    #if i =='Taplejung':\n",
    "     #   count+=1\n",
    "#print ('total number of sample of Taplejung', count)"
   ]
  },
  {
   "cell_type": "code",
   "execution_count": null,
   "metadata": {},
   "outputs": [],
   "source": []
  }
 ],
 "metadata": {
  "kernelspec": {
   "display_name": "Python 3",
   "language": "python",
   "name": "python3"
  },
  "language_info": {
   "codemirror_mode": {
    "name": "ipython",
    "version": 3
   },
   "file_extension": ".py",
   "mimetype": "text/x-python",
   "name": "python",
   "nbconvert_exporter": "python",
   "pygments_lexer": "ipython3",
   "version": "3.8.5"
  }
 },
 "nbformat": 4,
 "nbformat_minor": 4
}
