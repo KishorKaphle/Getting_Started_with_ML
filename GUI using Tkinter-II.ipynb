{
 "cells": [
  {
   "cell_type": "code",
   "execution_count": 72,
   "metadata": {},
   "outputs": [],
   "source": [
    "from tkinter import *\n",
    "from PIL import ImageTk, Image\n",
    "import os\n",
    "\n",
    "\n",
    "root = Tk()\n",
    "\n",
    "root.geometry ('500x500')\n",
    "\n",
    "#open image\n",
    "\n",
    "my_pic = Image.open('img.png')\n",
    "\n",
    "# resize image\n",
    "\n",
    "resized = my_pic.resize((200, 100), Image.ANTIALIAS)\n",
    "\n",
    "new_pic = ImageTk.PhotoImage(resized)\n",
    "\n",
    "\n",
    "imglabel = Label(image=new_pic)\n",
    "imglabel.pack(pady=20)\n",
    "\n",
    "root.mainloop()"
   ]
  },
  {
   "cell_type": "code",
   "execution_count": null,
   "metadata": {},
   "outputs": [],
   "source": []
  },
  {
   "cell_type": "code",
   "execution_count": null,
   "metadata": {},
   "outputs": [],
   "source": []
  },
  {
   "cell_type": "code",
   "execution_count": null,
   "metadata": {},
   "outputs": [],
   "source": []
  }
 ],
 "metadata": {
  "kernelspec": {
   "display_name": "Python 3",
   "language": "python",
   "name": "python3"
  },
  "language_info": {
   "codemirror_mode": {
    "name": "ipython",
    "version": 3
   },
   "file_extension": ".py",
   "mimetype": "text/x-python",
   "name": "python",
   "nbconvert_exporter": "python",
   "pygments_lexer": "ipython3",
   "version": "3.7.5"
  }
 },
 "nbformat": 4,
 "nbformat_minor": 4
}
