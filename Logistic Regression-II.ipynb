{
 "cells": [
  {
   "cell_type": "code",
   "execution_count": 1,
   "metadata": {},
   "outputs": [
    {
     "name": "stdout",
     "output_type": "stream",
     "text": [
      "\n",
      " Confusion matrix is : \n",
      " [[141  16]\n",
      " [ 35  39]]\n"
     ]
    },
    {
     "data": {
      "image/png": "[encoded data removed]",
      "text/plain": [
       "<Figure size 432x288 with 1 Axes>"
      ]
     },
     "metadata": {
      "needs_background": "light"
     },
     "output_type": "display_data"
    },
    {
     "name": "stdout",
     "output_type": "stream",
     "text": [
      "Accuracy:  0.7792207792207793\n",
      "Precision:  0.7090909090909091\n",
      "Recall:  0.527027027027027\n"
     ]
    },
    {
     "ename": "TclError",
     "evalue": "bad geometry specifier \"300*300\"",
     "output_type": "error",
     "traceback": [
      "\u001b[0;31m---------------------------------------------------------------------------\u001b[0m",
      "\u001b[0;31mTclError\u001b[0m                                  Traceback (most recent call last)",
      "\u001b[0;32m<ipython-input-1-e36d5761b061>\u001b[0m in \u001b[0;36m<module>\u001b[0;34m\u001b[0m\n\u001b[1;32m     83\u001b[0m \u001b[0;32mfrom\u001b[0m \u001b[0mtkinter\u001b[0m \u001b[0;32mimport\u001b[0m \u001b[0;34m*\u001b[0m\u001b[0;34m\u001b[0m\u001b[0;34m\u001b[0m\u001b[0m\n\u001b[1;32m     84\u001b[0m \u001b[0mwindow\u001b[0m \u001b[0;34m=\u001b[0m \u001b[0mTk\u001b[0m\u001b[0;34m(\u001b[0m\u001b[0;34m)\u001b[0m\u001b[0;34m\u001b[0m\u001b[0;34m\u001b[0m\u001b[0m\n\u001b[0;32m---> 85\u001b[0;31m \u001b[0mwindow\u001b[0m\u001b[0;34m.\u001b[0m\u001b[0mgeometry\u001b[0m \u001b[0;34m(\u001b[0m\u001b[0;34m'300*300'\u001b[0m\u001b[0;34m)\u001b[0m\u001b[0;34m\u001b[0m\u001b[0;34m\u001b[0m\u001b[0m\n\u001b[0m\u001b[1;32m     86\u001b[0m \u001b[0mwindow\u001b[0m\u001b[0;34m.\u001b[0m\u001b[0mtitle\u001b[0m \u001b[0;34m(\u001b[0m\u001b[0;34m'Welcome!'\u001b[0m\u001b[0;34m)\u001b[0m\u001b[0;34m\u001b[0m\u001b[0;34m\u001b[0m\u001b[0m\n\u001b[1;32m     87\u001b[0m \u001b[0mwindow\u001b[0m\u001b[0;34m.\u001b[0m\u001b[0mmainloop\u001b[0m\u001b[0;34m(\u001b[0m\u001b[0;34m)\u001b[0m\u001b[0;34m\u001b[0m\u001b[0;34m\u001b[0m\u001b[0m\n",
      "\u001b[0;32m/usr/lib/python3.7/tkinter/__init__.py\u001b[0m in \u001b[0;36mwm_geometry\u001b[0;34m(self, newGeometry)\u001b[0m\n\u001b[1;32m   1839\u001b[0m         \"\"\"Set geometry to NEWGEOMETRY of the form =widthxheight+x+y. Return\n\u001b[1;32m   1840\u001b[0m         current value if None is given.\"\"\"\n\u001b[0;32m-> 1841\u001b[0;31m         \u001b[0;32mreturn\u001b[0m \u001b[0mself\u001b[0m\u001b[0;34m.\u001b[0m\u001b[0mtk\u001b[0m\u001b[0;34m.\u001b[0m\u001b[0mcall\u001b[0m\u001b[0;34m(\u001b[0m\u001b[0;34m'wm'\u001b[0m\u001b[0;34m,\u001b[0m \u001b[0;34m'geometry'\u001b[0m\u001b[0;34m,\u001b[0m \u001b[0mself\u001b[0m\u001b[0;34m.\u001b[0m\u001b[0m_w\u001b[0m\u001b[0;34m,\u001b[0m \u001b[0mnewGeometry\u001b[0m\u001b[0;34m)\u001b[0m\u001b[0;34m\u001b[0m\u001b[0;34m\u001b[0m\u001b[0m\n\u001b[0m\u001b[1;32m   1842\u001b[0m     \u001b[0mgeometry\u001b[0m \u001b[0;34m=\u001b[0m \u001b[0mwm_geometry\u001b[0m\u001b[0;34m\u001b[0m\u001b[0;34m\u001b[0m\u001b[0m\n\u001b[1;32m   1843\u001b[0m     def wm_grid(self,\n",
      "\u001b[0;31mTclError\u001b[0m: bad geometry specifier \"300*300\""
     ]
    }
   ],
   "source": [
    "#importing necessary libraries\n",
    "\n",
    "import pandas as pd\n",
    "import matplotlib.pyplot as plt\n",
    "import seaborn as sns\n",
    "import numpy as np\n",
    "\n",
    "# reading the dataset\n",
    "\n",
    "df = pd.read_csv ('diabt.csv')\n",
    "df.head(7)\n",
    "\n",
    "#visualising the dataset by using pairplot from seaborn libraries\n",
    "\n",
    "#fig = sns.pairplot(df, hue= 'Outcome', kind='reg')\n",
    "#plt.show()\n",
    "\n",
    "\n",
    "# classification of features into dependent and independent features\n",
    "\n",
    "features = ['Pregnancies', 'Glucose', 'BloodPressure', 'BMI', 'DiabetesPedigreeFunction', 'Age']\n",
    "\n",
    "X = df [features];\n",
    "\n",
    "y = df ['Outcome'];\n",
    "\n",
    "\n",
    "#splitting training and testing data\n",
    "from sklearn.model_selection import train_test_split\n",
    "\n",
    "X_train, X_test, y_train, y_test = train_test_split (X, y, test_size =0.30, random_state = 0);\n",
    "\n",
    "\n",
    "#model development and prediction\n",
    "\n",
    "from sklearn.linear_model import LogisticRegression\n",
    "lr = LogisticRegression()\n",
    "\n",
    "\n",
    "#fitting th model with data\n",
    "\n",
    "lr.fit(X_train, y_train);\n",
    "\n",
    "#prediction of value\n",
    "y_pred = lr.predict(X_test);\n",
    "\n",
    "#model evaluation using confusion matrix\n",
    "\n",
    "from sklearn.metrics import confusion_matrix\n",
    "confmat = confusion_matrix (y_test, y_pred)\n",
    "print ('\\n Confusion matrix is : \\n', confmat)\n",
    "\n",
    "# visualizing confusion matrix\n",
    "\n",
    "#plt.clf()\n",
    "\n",
    "plt.imshow(confmat)\n",
    "classNames = [0, 1]\n",
    "plt.title ('Diabetics and Non-Diabetics Confusion Matrix - Test Data')\n",
    "plt.xlabel ('Predicted Outcome')\n",
    "plt.ylabel ('Actual Outcome')\n",
    "tick_marks = np.arange (len(classNames))\n",
    "\n",
    "for i in range(2):\n",
    "    for j in range(2):\n",
    "        plt.text(j, i, confmat[i][j])\n",
    "\n",
    "plt.xticks (tick_marks, classNames)\n",
    "plt.yticks (tick_marks, classNames)\n",
    "\n",
    "plt.show()\n",
    "\n",
    "#Confusion Matrix evaluation\n",
    "\n",
    "from sklearn import metrics\n",
    "\n",
    "print ('Accuracy: ', metrics.accuracy_score(y_test, y_pred))\n",
    "print ('Precision: ', metrics.precision_score(y_test, y_pred))\n",
    "print ('Recall: ', metrics.recall_score(y_test, y_pred))\n",
    "\n",
    "#now lets make this model more interactive using GUI\n",
    "\n",
    "from tkinter import *\n",
    "window = Tk()\n",
    "window.geometry ('300x300')\n",
    "window.title ('Welcome!')\n",
    "window.mainloop()"
   ]
  },
  {
   "cell_type": "code",
   "execution_count": null,
   "metadata": {},
   "outputs": [],
   "source": []
  },
  {
   "cell_type": "code",
   "execution_count": null,
   "metadata": {},
   "outputs": [],
   "source": []
  },
  {
   "cell_type": "code",
   "execution_count": null,
   "metadata": {},
   "outputs": [],
   "source": []
  }
 ],
 "metadata": {
  "kernelspec": {
   "display_name": "Python 3",
   "language": "python",
   "name": "python3"
  },
  "language_info": {
   "codemirror_mode": {
    "name": "ipython",
    "version": 3
   },
   "file_extension": ".py",
   "mimetype": "text/x-python",
   "name": "python",
   "nbconvert_exporter": "python",
   "pygments_lexer": "ipython3",
   "version": "3.7.5"
  }
 },
 "nbformat": 4,
 "nbformat_minor": 4
}
