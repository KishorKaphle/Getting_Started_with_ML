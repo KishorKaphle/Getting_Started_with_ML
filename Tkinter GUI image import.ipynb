{
 "cells": [
  {
   "cell_type": "code",
   "execution_count": 4,
   "metadata": {},
   "outputs": [],
   "source": [
    "# inserting canvas in tkinter\n",
    "\n",
    "import tkinter as tk\n",
    "root = tk.Tk()\n",
    "\n",
    "textt = \"testing! testing!\"\n",
    "textt1 = \"again testing! again testing!\"\n",
    "canvas1 = tk.Canvas(root, width = 500, height =300)\n",
    "canvas1.pack()\n",
    "\n",
    "label1 = tk.Label (root, text = textt, justify  = 'center', fg = \"red\")\n",
    "canvas1.create_window(260, 220, window = label1)\n",
    "\n",
    "label2 = tk.Label (root, text = textt1, justify = 'center', fg = \"blue\")\n",
    "canvas1.create_window(260, 240, window = label2)\n",
    "\n",
    "root.mainloop()\n"
   ]
  },
  {
   "cell_type": "code",
   "execution_count": null,
   "metadata": {},
   "outputs": [],
   "source": []
  }
 ],
 "metadata": {
  "kernelspec": {
   "display_name": "Python 3",
   "language": "python",
   "name": "python3"
  },
  "language_info": {
   "codemirror_mode": {
    "name": "ipython",
    "version": 3
   },
   "file_extension": ".py",
   "mimetype": "text/x-python",
   "name": "python",
   "nbconvert_exporter": "python",
   "pygments_lexer": "ipython3",
   "version": "3.7.5"
  }
 },
 "nbformat": 4,
 "nbformat_minor": 4
}
