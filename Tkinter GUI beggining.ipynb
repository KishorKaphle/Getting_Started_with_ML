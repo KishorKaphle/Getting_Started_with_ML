{
 "cells": [
  {
   "cell_type": "code",
   "execution_count": 1,
   "metadata": {},
   "outputs": [
    {
     "name": "stdout",
     "output_type": "stream",
     "text": [
      "Demo Display\n"
     ]
    }
   ],
   "source": [
    "from tkinter import *\n",
    "window = Tk()\n",
    "window.geometry ('500x500')\n",
    "window.title ('Welcome!')\n",
    "#label1 = Label(window, text =\"Welcome to Tkinter\", relief = 'solid', fg = 'black', bg  = 'green', font = ('arial', 16, 'bold')).pack()\n",
    "\n",
    "#adding button in GUI\n",
    "\n",
    "#button1 = Button (window, text = 'Demo',relief = RIDGE, fg = 'white', bg  = 'yellow', font = ('arial', 16, 'bold')).pack()\n",
    "\n",
    "\n",
    "\n",
    "#defining a function\n",
    "\n",
    "def printt ():\n",
    "    print ('Demo Display')\n",
    "\n",
    "\n",
    "def exit1():\n",
    "    exit()\n",
    "    \n",
    "\n",
    "#for display\n",
    "\n",
    "label1 = Label(window, text = 'Results Section', relief = 'solid', width =20, font = ('arial', 19, 'bold'))\n",
    "               \n",
    "label1.place(x =100, y =100)\n",
    "\n",
    "#for display\n",
    "\n",
    "label2 = Label(window, text = 'Output 1:', width =20, font = ('arial', 10, 'bold'))\n",
    "               \n",
    "label2.place(x =70, y =150)\n",
    "\n",
    "#for display\n",
    "label3 = Label(window, text = 'Output 2:', width =20, font = ('arial', 10, 'bold'))\n",
    "               \n",
    "label3.place(x =70, y =180)\n",
    "\n",
    "\n",
    "#lets create buttons\n",
    "\n",
    "b1 = Button(window, text = 'Estimate', width = 12, bg ='brown', fg= 'white', command = printt())\n",
    "b1.place (x = 80, y = 300)\n",
    "\n",
    "b2 = Button(window, text = 'Exit', width = 12, bg ='brown', fg= 'white', command = exit1())\n",
    "b2.place (x = 300, y = 300)\n",
    "\n",
    "\n",
    "\n",
    "window.mainloop() # this part makes sure that the whole program for GUI remains in the loop untill the tkinter window/display is closed\n",
    "\n",
    "\n"
   ]
  },
  {
   "cell_type": "code",
   "execution_count": null,
   "metadata": {},
   "outputs": [],
   "source": []
  }
 ],
 "metadata": {
  "kernelspec": {
   "display_name": "Python 3",
   "language": "python",
   "name": "python3"
  },
  "language_info": {
   "codemirror_mode": {
    "name": "ipython",
    "version": 3
   },
   "file_extension": ".py",
   "mimetype": "text/x-python",
   "name": "python",
   "nbconvert_exporter": "python",
   "pygments_lexer": "ipython3",
   "version": "3.7.5"
  }
 },
 "nbformat": 4,
 "nbformat_minor": 4
}
