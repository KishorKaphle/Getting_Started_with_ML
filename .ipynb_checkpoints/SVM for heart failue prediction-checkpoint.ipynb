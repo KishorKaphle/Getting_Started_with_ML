{
 "cells": [
  {
   "cell_type": "code",
   "execution_count": 11,
   "metadata": {},
   "outputs": [
    {
     "name": "stdout",
     "output_type": "stream",
     "text": [
      "    age  anaemia  creatinine_phosphokinase  diabetes  ejection_fraction  \\\n",
      "0  75.0        0                       582         0                 20   \n",
      "1  55.0        0                      7861         0                 38   \n",
      "2  65.0        0                       146         0                 20   \n",
      "3  50.0        1                       111         0                 20   \n",
      "4  65.0        1                       160         1                 20   \n",
      "\n",
      "   high_blood_pressure  platelets  serum_creatinine  serum_sodium  sex  \\\n",
      "0                    1  265000.00               1.9           130    1   \n",
      "1                    0  263358.03               1.1           136    1   \n",
      "2                    0  162000.00               1.3           129    1   \n",
      "3                    0  210000.00               1.9           137    1   \n",
      "4                    0  327000.00               2.7           116    0   \n",
      "\n",
      "   smoking  time  DEATH_EVENT  \n",
      "0        0     4            1  \n",
      "1        0     6            1  \n",
      "2        1     7            1  \n",
      "3        0     7            1  \n",
      "4        0     8            1  \n",
      "\n",
      " Death events:\n",
      " 0      1\n",
      "1      1\n",
      "2      1\n",
      "3      1\n",
      "4      1\n",
      "      ..\n",
      "294    0\n",
      "295    0\n",
      "296    0\n",
      "297    0\n",
      "298    0\n",
      "Name: DEATH_EVENT, Length: 299, dtype: int64\n"
     ]
    },
    {
     "data": {
      "image/png": "[encoded data removed]",
      "text/plain": [
       "<Figure size 432x288 with 1 Axes>"
      ]
     },
     "metadata": {
      "needs_background": "light"
     },
     "output_type": "display_data"
    }
   ],
   "source": [
    "#making sure that dataset is present\n",
    "import pandas as pd\n",
    "df = pd. read_csv ('Heart Fail Prediction.csv')\n",
    "print (df.head())\n",
    "print ('\\n Death events:\\n',df['DEATH_EVENT'])\n",
    "\n",
    "import matplotlib.pyplot as plt\n",
    "plt.scatter(df['DEATH_EVENT'], df['age'],  c = 'r')\n",
    "plt.title('death events due to heart failure as a function of age of patient')\n",
    "\n",
    "plt.show()"
   ]
  },
  {
   "cell_type": "code",
   "execution_count": 12,
   "metadata": {},
   "outputs": [],
   "source": [
    "# splitting the data into training and testing set\n",
    "\n",
    "\n",
    "features = ['age', 'anaemia', 'creatinine_phosphokinase', 'diabetes', 'ejection_fraction', 'high_blood_pressure', 'platelets',\n",
    "            'serum_creatinine', 'serum_sodium', 'sex', 'smoking', 'time']\n",
    "\n",
    "X = df [features]\n",
    "y = df ['DEATH_EVENT']\n",
    "\n",
    "from sklearn.model_selection import train_test_split\n",
    "\n",
    "X_train, X_test, y_train, y_test = train_test_split(X, y, test_size = 0.25, random_state = 109)"
   ]
  },
  {
   "cell_type": "code",
   "execution_count": 17,
   "metadata": {},
   "outputs": [],
   "source": [
    "# Importing the SVM model\n",
    "\n",
    "from sklearn import svm\n",
    "\n",
    "#creating svm classifier\n",
    "\n",
    "clfr = svm.SVC(kernel = 'linear') # using linear kernel\n",
    "\n",
    "#training the model using the training sets\n",
    "\n",
    "clfr.fit(X_train, y_train)\n",
    "\n",
    "\n",
    "# predicting the outcomes from the testing dataset\n",
    "\n",
    "y_pred = clfr.predict(X_test)\n"
   ]
  },
  {
   "cell_type": "code",
   "execution_count": 18,
   "metadata": {},
   "outputs": [
    {
     "name": "stdout",
     "output_type": "stream",
     "text": [
      "\n",
      " Accuracy:  0.76\n",
      "\n",
      " Precision:  0.7777777777777778\n",
      "\n",
      " Recall: 0.5\n"
     ]
    }
   ],
   "source": [
    "#evaluating the model\n",
    "\n",
    "from sklearn import metrics\n",
    "\n",
    "print ('\\n Accuracy: ', metrics.accuracy_score(y_test, y_pred))\n",
    "print ('\\n Precision: ', metrics.precision_score(y_test, y_pred))\n",
    "print ('\\n Recall:', metrics.recall_score(y_test, y_pred))"
   ]
  },
  {
   "cell_type": "code",
   "execution_count": null,
   "metadata": {},
   "outputs": [],
   "source": []
  }
 ],
 "metadata": {
  "kernelspec": {
   "display_name": "Python 3",
   "language": "python",
   "name": "python3"
  },
  "language_info": {
   "codemirror_mode": {
    "name": "ipython",
    "version": 3
   },
   "file_extension": ".py",
   "mimetype": "text/x-python",
   "name": "python",
   "nbconvert_exporter": "python",
   "pygments_lexer": "ipython3",
   "version": "3.7.5"
  }
 },
 "nbformat": 4,
 "nbformat_minor": 4
}
